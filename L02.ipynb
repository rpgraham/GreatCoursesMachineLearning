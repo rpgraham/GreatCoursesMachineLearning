{
  "nbformat": 4,
  "nbformat_minor": 0,
  "metadata": {
    "kernelspec": {
      "display_name": "Python 3",
      "language": "python",
      "name": "python3"
    },
    "language_info": {
      "codemirror_mode": {
        "name": "ipython",
        "version": 3
      },
      "file_extension": ".py",
      "mimetype": "text/x-python",
      "name": "python",
      "nbconvert_exporter": "python",
      "pygments_lexer": "ipython3",
      "version": "3.6.8"
    },
    "colab": {
      "name": "L02.ipynb",
      "provenance": [],
      "collapsed_sections": [],
      "include_colab_link": true
    }
  },
  "cells": [
    {
      "cell_type": "markdown",
      "metadata": {
        "id": "view-in-github",
        "colab_type": "text"
      },
      "source": [
        "<a href=\"https://colab.research.google.com/github/rpgraham/GreatCoursesMachineLearning/blob/main/L02.ipynb\" target=\"_parent\"><img src=\"https://colab.research.google.com/assets/colab-badge.svg\" alt=\"Open In Colab\"/></a>"
      ]
    },
    {
      "cell_type": "markdown",
      "metadata": {
        "id": "fvNbYpwLT1F7"
      },
      "source": [
        "Let's write a simple function to print \"hello!\" `x` times"
      ]
    },
    {
      "cell_type": "code",
      "metadata": {
        "id": "KYcxppRR5KWp"
      },
      "source": [
        "def helloworld(x):\n",
        "  for i in range(x):\n",
        "    print(\"hello!\")"
      ],
      "execution_count": 14,
      "outputs": []
    },
    {
      "cell_type": "markdown",
      "metadata": {
        "id": "Ku_mkV88T8xX"
      },
      "source": [
        "Here we'll print \"hello!\" 4 times"
      ]
    },
    {
      "cell_type": "code",
      "metadata": {
        "id": "_PSeUt9t5T54",
        "colab": {
          "base_uri": "https://localhost:8080/"
        },
        "outputId": "9aae3644-2554-4e96-9bfe-a41da9180fea"
      },
      "source": [
        "helloworld(10)"
      ],
      "execution_count": 9,
      "outputs": [
        {
          "output_type": "stream",
          "text": [
            "hello!\n",
            "hello!\n",
            "hello!\n",
            "hello!\n",
            "hello!\n",
            "hello!\n",
            "hello!\n",
            "hello!\n",
            "hello!\n",
            "hello!\n"
          ],
          "name": "stdout"
        }
      ]
    },
    {
      "cell_type": "markdown",
      "metadata": {
        "id": "PguHypYdUEpR"
      },
      "source": [
        "We can also perform simple arithmetic"
      ]
    },
    {
      "cell_type": "code",
      "metadata": {
        "id": "YXKQwhY6Fmsp",
        "colab": {
          "base_uri": "https://localhost:8080/"
        },
        "outputId": "a1c2c2f9-59de-4fa1-8cc6-b565e06ff162"
      },
      "source": [
        "4*8"
      ],
      "execution_count": 11,
      "outputs": [
        {
          "output_type": "execute_result",
          "data": {
            "text/plain": [
              "32"
            ]
          },
          "metadata": {
            "tags": []
          },
          "execution_count": 11
        }
      ]
    },
    {
      "cell_type": "code",
      "metadata": {
        "id": "O9eaMfzEEJn3",
        "colab": {
          "base_uri": "https://localhost:8080/"
        },
        "outputId": "be109133-eeb7-406c-d31e-4f0881ffcc7c"
      },
      "source": [
        "!wget https://raw.githubusercontent.com/mlittmancs/great_courses_ml/master/data/ascii.txt\n",
        "!cat ascii.txt"
      ],
      "execution_count": 12,
      "outputs": [
        {
          "output_type": "stream",
          "text": [
            "--2021-07-07 22:34:43--  https://raw.githubusercontent.com/mlittmancs/great_courses_ml/master/data/ascii.txt\n",
            "Resolving raw.githubusercontent.com (raw.githubusercontent.com)... 185.199.109.133, 185.199.111.133, 185.199.108.133, ...\n",
            "Connecting to raw.githubusercontent.com (raw.githubusercontent.com)|185.199.109.133|:443... connected.\n",
            "HTTP request sent, awaiting response... 200 OK\n",
            "Length: 2025 (2.0K) [text/plain]\n",
            "Saving to: ‘ascii.txt’\n",
            "\n",
            "\rascii.txt             0%[                    ]       0  --.-KB/s               \rascii.txt           100%[===================>]   1.98K  --.-KB/s    in 0s      \n",
            "\n",
            "2021-07-07 22:34:43 (36.4 MB/s) - ‘ascii.txt’ saved [2025/2025]\n",
            "\n",
            "                                                                                \n",
            "                                                                                \n",
            "HHHHHHHHH     HHHHHHHHH                   lllllll lllllll                   !!! \n",
            "H:::::::H     H:::::::H                   l:::::l l:::::l                  !!:!!\n",
            "H:::::::H     H:::::::H                   l:::::l l:::::l                  !:::!\n",
            "HH::::::H     H::::::HH                   l:::::l l:::::l                  !:::!\n",
            "  H:::::H     H:::::H      eeeeeeeeeeee    l::::l  l::::l    ooooooooooo   !:::!\n",
            "  H:::::H     H:::::H    ee::::::::::::ee  l::::l  l::::l  oo:::::::::::oo !:::!\n",
            "  H::::::HHHHH::::::H   e::::::eeeee:::::eel::::l  l::::l o:::::::::::::::o!:::!\n",
            "  H:::::::::::::::::H  e::::::e     e:::::el::::l  l::::l o:::::ooooo:::::o!:::!\n",
            "  H:::::::::::::::::H  e:::::::eeeee::::::el::::l  l::::l o::::o     o::::o!:::!\n",
            "  H::::::HHHHH::::::H  e:::::::::::::::::e l::::l  l::::l o::::o     o::::o!:::!\n",
            "  H:::::H     H:::::H  e::::::eeeeeeeeeee  l::::l  l::::l o::::o     o::::o!!:!!\n",
            "  H:::::H     H:::::H  e:::::::e           l::::l  l::::l o::::o     o::::o !!! \n",
            "HH::::::H     H::::::HHe::::::::e         l::::::ll::::::lo:::::ooooo:::::o     \n",
            "H:::::::H     H:::::::H e::::::::eeeeeeee l::::::ll::::::lo:::::::::::::::o !!! \n",
            "H:::::::H     H:::::::H  ee:::::::::::::e l::::::ll::::::l oo:::::::::::oo !!:!!\n",
            "HHHHHHHHH     HHHHHHHHH    eeeeeeeeeeeeee llllllllllllllll   ooooooooooo    !!! \n",
            "                                                                                \n",
            "                                                                                \n",
            "                                                                                \n",
            "                                                                                \n",
            "                                                                                \n",
            "                                                                                \n",
            "                                                                                \n"
          ],
          "name": "stdout"
        }
      ]
    },
    {
      "cell_type": "code",
      "metadata": {
        "id": "fLvnv4lNEKgg",
        "colab": {
          "base_uri": "https://localhost:8080/",
          "height": 34
        },
        "outputId": "b37ffc0d-e21f-40d4-ce68-2e8e840dc1b8"
      },
      "source": [
        "print(\"hello!\")"
      ],
      "execution_count": null,
      "outputs": [
        {
          "output_type": "stream",
          "text": [
            "hello!\n"
          ],
          "name": "stdout"
        }
      ]
    }
  ]
}